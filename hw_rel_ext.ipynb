{
 "cells": [
  {
   "cell_type": "markdown",
   "metadata": {},
   "source": [
    "# Homework and bake-off: Relation extraction using distant supervision"
   ]
  },
  {
   "cell_type": "code",
   "execution_count": 1,
   "metadata": {},
   "outputs": [],
   "source": [
    "__author__ = \"Bill MacCartney and Christopher Potts\"\n",
    "__version__ = \"CS224u, Stanford, Spring 2020\""
   ]
  },
  {
   "cell_type": "markdown",
   "metadata": {},
   "source": [
    "## Contents\n",
    "\n",
    "1. [Overview](#Overview)\n",
    "1. [Set-up](#Set-up)\n",
    "1. [Baselines](#Baselines)\n",
    "  1. [Hand-build feature functions](#Hand-build-feature-functions)\n",
    "  1. [Distributed representations](#Distributed-representations)\n",
    "1. [Homework questions](#Homework-questions)\n",
    "  1. [Different model factory [1 points]](#Different-model-factory-[1-points])\n",
    "  1. [Directional unigram features [1.5 points]](#Directional-unigram-features-[1.5-points])\n",
    "  1. [The part-of-speech tags of the \"middle\" words [1.5 points]](#The-part-of-speech-tags-of-the-\"middle\"-words-[1.5-points])\n",
    "  1. [Bag of Synsets [2 points]](#Bag-of-Synsets-[2-points])\n",
    "  1. [Your original system [3 points]](#Your-original-system-[3-points])\n",
    "1. [Bake-off [1 point]](#Bake-off-[1-point])"
   ]
  },
  {
   "cell_type": "markdown",
   "metadata": {},
   "source": [
    "## Overview\n",
    "\n",
    "This homework and associated bake-off are devoted to developing really effective relation extraction systems using distant supervision. \n",
    "\n",
    "As with the previous assignments, this notebook first establishes a baseline system. The initial homework questions ask you to create additional baselines and suggest areas for innovation, and the final homework question asks you to develop an original system for you to enter into the bake-off."
   ]
  },
  {
   "cell_type": "markdown",
   "metadata": {},
   "source": [
    "## Set-up\n",
    "\n",
    "See [the first notebook in this unit](rel_ext_01_task.ipynb#Set-up) for set-up instructions."
   ]
  },
  {
   "cell_type": "code",
   "execution_count": 2,
   "metadata": {},
   "outputs": [],
   "source": [
    "import numpy as np\n",
    "import os\n",
    "import rel_ext\n",
    "from sklearn.linear_model import LogisticRegression\n",
    "import utils"
   ]
  },
  {
   "cell_type": "markdown",
   "metadata": {},
   "source": [
    "As usual, we unite our corpus and KB into a dataset, and create some splits for experimentation:"
   ]
  },
  {
   "cell_type": "code",
   "execution_count": 3,
   "metadata": {},
   "outputs": [],
   "source": [
    "rel_ext_data_home = os.path.join('data', 'rel_ext_data')"
   ]
  },
  {
   "cell_type": "code",
   "execution_count": 4,
   "metadata": {},
   "outputs": [],
   "source": [
    "corpus = rel_ext.Corpus(os.path.join(rel_ext_data_home, 'corpus.tsv.gz'))"
   ]
  },
  {
   "cell_type": "code",
   "execution_count": 5,
   "metadata": {},
   "outputs": [],
   "source": [
    "kb = rel_ext.KB(os.path.join(rel_ext_data_home, 'kb.tsv.gz'))"
   ]
  },
  {
   "cell_type": "code",
   "execution_count": 6,
   "metadata": {},
   "outputs": [],
   "source": [
    "dataset = rel_ext.Dataset(corpus, kb)"
   ]
  },
  {
   "cell_type": "markdown",
   "metadata": {},
   "source": [
    "You are not wedded to this set-up for splits. The bake-off will be conducted on a previously unseen test-set, so all of the data in `dataset` is fair game:"
   ]
  },
  {
   "cell_type": "code",
   "execution_count": 7,
   "metadata": {},
   "outputs": [],
   "source": [
    "splits = dataset.build_splits(\n",
    "    split_names=['tiny', 'train', 'dev'],\n",
    "    split_fracs=[0.01, 0.79, 0.20],\n",
    "    seed=1)"
   ]
  },
  {
   "cell_type": "code",
   "execution_count": 8,
   "metadata": {},
   "outputs": [
    {
     "data": {
      "text/plain": [
       "{'tiny': Corpus with 3,474 examples; KB with 445 triples,\n",
       " 'train': Corpus with 263,285 examples; KB with 36,191 triples,\n",
       " 'dev': Corpus with 64,937 examples; KB with 9,248 triples,\n",
       " 'all': Corpus with 331,696 examples; KB with 45,884 triples}"
      ]
     },
     "execution_count": 8,
     "metadata": {},
     "output_type": "execute_result"
    }
   ],
   "source": [
    "splits"
   ]
  },
  {
   "cell_type": "markdown",
   "metadata": {},
   "source": [
    "## Baselines"
   ]
  },
  {
   "cell_type": "markdown",
   "metadata": {},
   "source": [
    "### Hand-build feature functions"
   ]
  },
  {
   "cell_type": "code",
   "execution_count": 9,
   "metadata": {},
   "outputs": [],
   "source": [
    "def simple_bag_of_words_featurizer(kbt, corpus, feature_counter):\n",
    "    for ex in corpus.get_examples_for_entities(kbt.sbj, kbt.obj):\n",
    "        for word in ex.middle.split(' '):\n",
    "            feature_counter[word] += 1\n",
    "    for ex in corpus.get_examples_for_entities(kbt.obj, kbt.sbj):\n",
    "        for word in ex.middle.split(' '):\n",
    "            feature_counter[word] += 1\n",
    "    return feature_counter"
   ]
  },
  {
   "cell_type": "code",
   "execution_count": 10,
   "metadata": {},
   "outputs": [],
   "source": [
    "featurizers = [simple_bag_of_words_featurizer]"
   ]
  },
  {
   "cell_type": "code",
   "execution_count": 11,
   "metadata": {},
   "outputs": [],
   "source": [
    "model_factory = lambda: LogisticRegression(fit_intercept=True, solver='liblinear')"
   ]
  },
  {
   "cell_type": "code",
   "execution_count": 12,
   "metadata": {},
   "outputs": [
    {
     "name": "stdout",
     "output_type": "stream",
     "text": [
      "relation              precision     recall    f-score    support       size\n",
      "------------------    ---------  ---------  ---------  ---------  ---------\n",
      "adjoins                   0.841      0.388      0.682        340       5716\n",
      "author                    0.784      0.534      0.717        509       5885\n",
      "capital                   0.607      0.179      0.411         95       5471\n",
      "contains                  0.800      0.597      0.749       3904       9280\n",
      "film_performance          0.790      0.569      0.733        766       6142\n",
      "founders                  0.801      0.392      0.663        380       5756\n",
      "genre                     0.595      0.147      0.370        170       5546\n",
      "has_sibling               0.842      0.246      0.568        499       5875\n",
      "has_spouse                0.865      0.313      0.640        594       5970\n",
      "is_a                      0.669      0.227      0.482        497       5873\n",
      "nationality               0.625      0.166      0.403        301       5677\n",
      "parents                   0.862      0.519      0.761        312       5688\n",
      "place_of_birth            0.681      0.210      0.470        233       5609\n",
      "place_of_death            0.586      0.107      0.309        159       5535\n",
      "profession                0.613      0.198      0.432        247       5623\n",
      "worked_at                 0.718      0.252      0.524        242       5618\n",
      "------------------    ---------  ---------  ---------  ---------  ---------\n",
      "macro-average             0.730      0.315      0.557       9248      95264\n"
     ]
    }
   ],
   "source": [
    "baseline_results = rel_ext.experiment(\n",
    "    splits,\n",
    "    train_split='train',\n",
    "    test_split='dev',\n",
    "    featurizers=featurizers,\n",
    "    model_factory=model_factory,\n",
    "    verbose=True)"
   ]
  },
  {
   "cell_type": "markdown",
   "metadata": {},
   "source": [
    "Studying model weights might yield insights:"
   ]
  },
  {
   "cell_type": "code",
   "execution_count": 13,
   "metadata": {},
   "outputs": [
    {
     "name": "stdout",
     "output_type": "stream",
     "text": [
      "Highest and lowest feature weights for relation adjoins:\n",
      "\n",
      "     2.544 Córdoba\n",
      "     2.430 Taluks\n",
      "     2.262 Valais\n",
      "     ..... .....\n",
      "    -1.145 who\n",
      "    -1.550 Europe\n",
      "    -1.664 America\n",
      "\n",
      "Highest and lowest feature weights for relation author:\n",
      "\n",
      "     2.934 author\n",
      "     2.613 wrote\n",
      "     2.374 books\n",
      "     ..... .....\n",
      "    -2.620 Alice\n",
      "    -6.069 dystopian\n",
      "    -6.974 1865\n",
      "\n",
      "Highest and lowest feature weights for relation capital:\n",
      "\n",
      "     2.720 capital\n",
      "     1.737 km\n",
      "     1.658 capitals\n",
      "     ..... .....\n",
      "    -1.219 and\n",
      "    -1.241 North\n",
      "    -1.566 ’\n",
      "\n",
      "Highest and lowest feature weights for relation contains:\n",
      "\n",
      "     2.889 third-largest\n",
      "     2.431 bordered\n",
      "     2.279 County\n",
      "     ..... .....\n",
      "    -2.264 Malaysian\n",
      "    -2.355 band\n",
      "    -2.402 who\n",
      "\n",
      "Highest and lowest feature weights for relation film_performance:\n",
      "\n",
      "     4.170 starring\n",
      "     3.729 co-starring\n",
      "     3.475 alongside\n",
      "     ..... .....\n",
      "    -1.965 Malice\n",
      "    -1.966 Wonderland\n",
      "    -2.165 Iruvar\n",
      "\n",
      "Highest and lowest feature weights for relation founders:\n",
      "\n",
      "     4.432 founder\n",
      "     3.623 founded\n",
      "     3.509 co-founder\n",
      "     ..... .....\n",
      "    -1.729 band\n",
      "    -1.837 novel\n",
      "    -2.540 Bauhaus\n",
      "\n",
      "Highest and lowest feature weights for relation genre:\n",
      "\n",
      "     2.964 album\n",
      "     2.721 \n",
      "     2.633 series\n",
      "     ..... .....\n",
      "    -1.395 during\n",
      "    -1.547 and\n",
      "    -1.903 at\n",
      "\n",
      "Highest and lowest feature weights for relation has_sibling:\n",
      "\n",
      "     5.186 brother\n",
      "     4.249 sister\n",
      "     2.928 nephew\n",
      "     ..... .....\n",
      "    -1.183 including\n",
      "    -1.227 Great\n",
      "    -1.291 starring\n",
      "\n",
      "Highest and lowest feature weights for relation has_spouse:\n",
      "\n",
      "     4.990 wife\n",
      "     4.464 husband\n",
      "     4.456 widow\n",
      "     ..... .....\n",
      "    -1.299 assassinated\n",
      "    -1.403 on\n",
      "    -1.633 grandson\n",
      "\n",
      "Highest and lowest feature weights for relation is_a:\n",
      "\n",
      "     3.394 family\n",
      "     3.185 \n",
      "     2.354 order\n",
      "     ..... .....\n",
      "    -1.541 at\n",
      "    -1.622 emperor\n",
      "    -3.865 widespread\n",
      "\n",
      "Highest and lowest feature weights for relation nationality:\n",
      "\n",
      "     2.746 born\n",
      "     2.077 president\n",
      "     1.901 Pinky\n",
      "     ..... .....\n",
      "    -1.626 2010\n",
      "    -1.646 report\n",
      "    -1.781 American\n",
      "\n",
      "Highest and lowest feature weights for relation parents:\n",
      "\n",
      "     5.076 son\n",
      "     4.605 daughter\n",
      "     4.270 father\n",
      "     ..... .....\n",
      "    -2.100 filmmaker\n",
      "    -2.500 Gamal\n",
      "    -2.840 Indian\n",
      "\n",
      "Highest and lowest feature weights for relation place_of_birth:\n",
      "\n",
      "     3.805 born\n",
      "     3.262 birthplace\n",
      "     2.779 mayor\n",
      "     ..... .....\n",
      "    -1.433 or\n",
      "    -1.456 and\n",
      "    -1.932 Indian\n",
      "\n",
      "Highest and lowest feature weights for relation place_of_death:\n",
      "\n",
      "     2.174 died\n",
      "     1.988 where\n",
      "     1.890 rebuilt\n",
      "     ..... .....\n",
      "    -1.050 as\n",
      "    -1.149 or\n",
      "    -1.250 and\n",
      "\n",
      "Highest and lowest feature weights for relation profession:\n",
      "\n",
      "     3.752 \n",
      "     2.594 American\n",
      "     2.199 philosopher\n",
      "     ..... .....\n",
      "    -1.223 at\n",
      "    -1.408 York\n",
      "    -2.017 on\n",
      "\n",
      "Highest and lowest feature weights for relation worked_at:\n",
      "\n",
      "     3.321 president\n",
      "     3.042 professor\n",
      "     3.029 CEO\n",
      "     ..... .....\n",
      "    -1.554 Bauhaus\n",
      "    -1.674 report\n",
      "    -1.679 or\n",
      "\n"
     ]
    }
   ],
   "source": [
    "rel_ext.examine_model_weights(baseline_results)"
   ]
  },
  {
   "cell_type": "markdown",
   "metadata": {},
   "source": [
    "### Distributed representations\n",
    "\n",
    "This simple baseline sums the GloVe vector representations for all of the words in the \"middle\" span and feeds those representations into the standard `LogisticRegression`-based `model_factory`. The crucial parameter that enables this is `vectorize=False`. This essentially says to `rel_ext.experiment` that your featurizer or your model will do the work of turning examples into vectors; in that case, `rel_ext.experiment` just organizes these representations by relation type."
   ]
  },
  {
   "cell_type": "code",
   "execution_count": 14,
   "metadata": {},
   "outputs": [],
   "source": [
    "GLOVE_HOME = os.path.join('data', 'glove.6B')"
   ]
  },
  {
   "cell_type": "code",
   "execution_count": 15,
   "metadata": {},
   "outputs": [],
   "source": [
    "glove_lookup = utils.glove2dict(\n",
    "    os.path.join(GLOVE_HOME, 'glove.6B.300d.txt'))"
   ]
  },
  {
   "cell_type": "code",
   "execution_count": 16,
   "metadata": {},
   "outputs": [],
   "source": [
    "def glove_middle_featurizer(kbt, corpus, np_func=np.sum):\n",
    "    reps = []\n",
    "    for ex in corpus.get_examples_for_entities(kbt.sbj, kbt.obj):\n",
    "        for word in ex.middle.split():\n",
    "            rep = glove_lookup.get(word)\n",
    "            if rep is not None:\n",
    "                reps.append(rep)\n",
    "    # A random representation of the right dimensionality if the\n",
    "    # example happens not to overlap with GloVe's vocabulary:\n",
    "    if len(reps) == 0:\n",
    "        dim = len(next(iter(glove_lookup.values())))                \n",
    "        return utils.randvec(n=dim)\n",
    "    else:\n",
    "        return np_func(reps, axis=0)"
   ]
  },
  {
   "cell_type": "code",
   "execution_count": 17,
   "metadata": {},
   "outputs": [
    {
     "name": "stdout",
     "output_type": "stream",
     "text": [
      "relation              precision     recall    f-score    support       size\n",
      "------------------    ---------  ---------  ---------  ---------  ---------\n",
      "adjoins                   0.833      0.471      0.722        340       5716\n",
      "author                    0.832      0.446      0.709        509       5885\n",
      "capital                   0.519      0.147      0.345         95       5471\n",
      "contains                  0.650      0.410      0.582       3904       9280\n",
      "film_performance          0.804      0.321      0.618        766       6142\n",
      "founders                  0.722      0.239      0.515        380       5756\n",
      "genre                     0.500      0.059      0.200        170       5546\n",
      "has_sibling               0.821      0.238      0.551        499       5875\n",
      "has_spouse                0.855      0.357      0.668        594       5970\n",
      "is_a                      0.720      0.135      0.386        497       5873\n",
      "nationality               0.648      0.189      0.436        301       5677\n",
      "parents                   0.874      0.401      0.707        312       5688\n",
      "place_of_birth            0.653      0.210      0.460        233       5609\n",
      "place_of_death            0.485      0.101      0.275        159       5535\n",
      "profession                0.667      0.146      0.389        247       5623\n",
      "worked_at                 0.762      0.264      0.554        242       5618\n",
      "------------------    ---------  ---------  ---------  ---------  ---------\n",
      "macro-average             0.709      0.258      0.507       9248      95264\n"
     ]
    }
   ],
   "source": [
    "glove_results = rel_ext.experiment(\n",
    "    splits,\n",
    "    train_split='train',\n",
    "    test_split='dev',\n",
    "    featurizers=[glove_middle_featurizer],    \n",
    "    vectorize=False, # Crucial for this featurizer!\n",
    "    verbose=True)"
   ]
  },
  {
   "cell_type": "markdown",
   "metadata": {},
   "source": [
    "With the same basic code design, one can also use the PyTorch models included in the course repo, or write new ones that are better aligned with the task. For those models, it's likely that the featurizer will just return a list of tokens (or perhaps a list of lists of tokens), and the model will map those into vectors using an embedding."
   ]
  },
  {
   "cell_type": "markdown",
   "metadata": {},
   "source": [
    "## Homework questions\n",
    "\n",
    "Please embed your homework responses in this notebook, and do not delete any cells from the notebook. (You are free to add as many cells as you like as part of your responses.)"
   ]
  },
  {
   "cell_type": "markdown",
   "metadata": {},
   "source": [
    "### Different model factory [1 points]\n",
    "\n",
    "The code in `rel_ext` makes it very easy to experiment with other classifier models: one need only redefine the `model_factory` argument. This question asks you to assess a [Support Vector Classifier](https://scikit-learn.org/stable/modules/generated/sklearn.svm.SVC.html).\n",
    "\n",
    "__To submit:__ A wrapper function `run_svm_model_factory` that does the following: \n",
    "\n",
    "1. Uses `rel_ext.experiment` with the model factory set to one based in an `SVC` with `kernel='linear'` and all other arguments left with default values. \n",
    "1. Trains on the 'train' part of `splits`.\n",
    "1. Assesses on the `dev` part of `splits`.\n",
    "1. Uses `featurizers` as defined above. \n",
    "1. Returns the return value of `rel_ext.experiment` for this set-up.\n",
    "\n",
    "The function `test_run_svm_model_factory` will check that your function conforms to these general specifications."
   ]
  },
  {
   "cell_type": "code",
   "execution_count": 18,
   "metadata": {},
   "outputs": [],
   "source": [
    "from sklearn.svm import SVC\n",
    "def run_svm_model_factory():\n",
    "    \n",
    "    ##### YOUR CODE HERE\n",
    "    \n",
    "#     return rel_ext.experiment(\n",
    "#         splits,\n",
    "#         train_split='train',\n",
    "#         test_split='dev',\n",
    "#         featurizers=[glove_middle_featurizer],    \n",
    "#         model_factory=lambda: SVC(kernel='linear', max_iter=3000),\n",
    "#         vectorize=False,\n",
    "#         verbose=True)\n",
    "    return rel_ext.experiment(\n",
    "        splits,\n",
    "        train_split='train',\n",
    "        test_split='dev',\n",
    "        featurizers=[simple_bag_of_words_featurizer],    \n",
    "        model_factory=lambda: SVC(kernel='linear', max_iter=3000),\n",
    "        verbose=True)\n",
    "\n"
   ]
  },
  {
   "cell_type": "code",
   "execution_count": 19,
   "metadata": {},
   "outputs": [],
   "source": [
    "def test_run_svm_model_factory(run_svm_model_factory):\n",
    "    results = run_svm_model_factory()\n",
    "    assert 'featurizers' in results, \\\n",
    "        \"The return value of `run_svm_model_factory` seems not to be correct\"\n",
    "    # Check one of the models to make sure it's an SVC:\n",
    "    assert 'SVC' in results['models']['adjoins'].__class__.__name__, \\\n",
    "        \"It looks like the model factor wasn't set to use an SVC.\"    "
   ]
  },
  {
   "cell_type": "code",
   "execution_count": 35,
   "metadata": {},
   "outputs": [
    {
     "name": "stderr",
     "output_type": "stream",
     "text": [
      "/opt/conda/lib/python3.6/site-packages/sklearn/svm/_base.py:231: ConvergenceWarning: Solver terminated early (max_iter=3000).  Consider pre-processing your data with StandardScaler or MinMaxScaler.\n",
      "  % self.max_iter, ConvergenceWarning)\n",
      "/opt/conda/lib/python3.6/site-packages/sklearn/svm/_base.py:231: ConvergenceWarning: Solver terminated early (max_iter=3000).  Consider pre-processing your data with StandardScaler or MinMaxScaler.\n",
      "  % self.max_iter, ConvergenceWarning)\n",
      "/opt/conda/lib/python3.6/site-packages/sklearn/svm/_base.py:231: ConvergenceWarning: Solver terminated early (max_iter=3000).  Consider pre-processing your data with StandardScaler or MinMaxScaler.\n",
      "  % self.max_iter, ConvergenceWarning)\n",
      "/opt/conda/lib/python3.6/site-packages/sklearn/svm/_base.py:231: ConvergenceWarning: Solver terminated early (max_iter=3000).  Consider pre-processing your data with StandardScaler or MinMaxScaler.\n",
      "  % self.max_iter, ConvergenceWarning)\n",
      "/opt/conda/lib/python3.6/site-packages/sklearn/svm/_base.py:231: ConvergenceWarning: Solver terminated early (max_iter=3000).  Consider pre-processing your data with StandardScaler or MinMaxScaler.\n",
      "  % self.max_iter, ConvergenceWarning)\n",
      "/opt/conda/lib/python3.6/site-packages/sklearn/svm/_base.py:231: ConvergenceWarning: Solver terminated early (max_iter=3000).  Consider pre-processing your data with StandardScaler or MinMaxScaler.\n",
      "  % self.max_iter, ConvergenceWarning)\n",
      "/opt/conda/lib/python3.6/site-packages/sklearn/svm/_base.py:231: ConvergenceWarning: Solver terminated early (max_iter=3000).  Consider pre-processing your data with StandardScaler or MinMaxScaler.\n",
      "  % self.max_iter, ConvergenceWarning)\n",
      "/opt/conda/lib/python3.6/site-packages/sklearn/svm/_base.py:231: ConvergenceWarning: Solver terminated early (max_iter=3000).  Consider pre-processing your data with StandardScaler or MinMaxScaler.\n",
      "  % self.max_iter, ConvergenceWarning)\n",
      "/opt/conda/lib/python3.6/site-packages/sklearn/svm/_base.py:231: ConvergenceWarning: Solver terminated early (max_iter=3000).  Consider pre-processing your data with StandardScaler or MinMaxScaler.\n",
      "  % self.max_iter, ConvergenceWarning)\n",
      "/opt/conda/lib/python3.6/site-packages/sklearn/svm/_base.py:231: ConvergenceWarning: Solver terminated early (max_iter=3000).  Consider pre-processing your data with StandardScaler or MinMaxScaler.\n",
      "  % self.max_iter, ConvergenceWarning)\n",
      "/opt/conda/lib/python3.6/site-packages/sklearn/svm/_base.py:231: ConvergenceWarning: Solver terminated early (max_iter=3000).  Consider pre-processing your data with StandardScaler or MinMaxScaler.\n",
      "  % self.max_iter, ConvergenceWarning)\n",
      "/opt/conda/lib/python3.6/site-packages/sklearn/svm/_base.py:231: ConvergenceWarning: Solver terminated early (max_iter=3000).  Consider pre-processing your data with StandardScaler or MinMaxScaler.\n",
      "  % self.max_iter, ConvergenceWarning)\n",
      "/opt/conda/lib/python3.6/site-packages/sklearn/svm/_base.py:231: ConvergenceWarning: Solver terminated early (max_iter=3000).  Consider pre-processing your data with StandardScaler or MinMaxScaler.\n",
      "  % self.max_iter, ConvergenceWarning)\n",
      "/opt/conda/lib/python3.6/site-packages/sklearn/svm/_base.py:231: ConvergenceWarning: Solver terminated early (max_iter=3000).  Consider pre-processing your data with StandardScaler or MinMaxScaler.\n",
      "  % self.max_iter, ConvergenceWarning)\n",
      "/opt/conda/lib/python3.6/site-packages/sklearn/svm/_base.py:231: ConvergenceWarning: Solver terminated early (max_iter=3000).  Consider pre-processing your data with StandardScaler or MinMaxScaler.\n",
      "  % self.max_iter, ConvergenceWarning)\n",
      "/opt/conda/lib/python3.6/site-packages/sklearn/svm/_base.py:231: ConvergenceWarning: Solver terminated early (max_iter=3000).  Consider pre-processing your data with StandardScaler or MinMaxScaler.\n",
      "  % self.max_iter, ConvergenceWarning)\n"
     ]
    },
    {
     "name": "stdout",
     "output_type": "stream",
     "text": [
      "relation              precision     recall    f-score    support       size\n",
      "------------------    ---------  ---------  ---------  ---------  ---------\n",
      "adjoins                   0.298      0.318      0.302        340       5716\n",
      "author                    0.259      0.835      0.301        509       5885\n",
      "capital                   0.605      0.274      0.487         95       5471\n",
      "contains                  0.428      0.916      0.479       3904       9280\n",
      "film_performance          0.199      0.808      0.235        766       6142\n",
      "founders                  0.459      0.500      0.467        380       5756\n",
      "genre                     0.597      0.253      0.469        170       5546\n",
      "has_sibling               0.117      0.804      0.141        499       5875\n",
      "has_spouse                0.238      0.818      0.278        594       5970\n",
      "is_a                      0.152      0.672      0.179        497       5873\n",
      "nationality               0.300      0.262      0.292        301       5677\n",
      "parents                   0.811      0.593      0.756        312       5688\n",
      "place_of_birth            0.523      0.245      0.426        233       5609\n",
      "place_of_death            0.348      0.101      0.233        159       5535\n",
      "profession                0.474      0.291      0.421        247       5623\n",
      "worked_at                 0.553      0.322      0.484        242       5618\n",
      "------------------    ---------  ---------  ---------  ---------  ---------\n",
      "macro-average             0.398      0.501      0.372       9248      95264\n"
     ]
    }
   ],
   "source": [
    "if 'IS_GRADESCOPE_ENV' not in os.environ:\n",
    "    test_run_svm_model_factory(run_svm_model_factory)"
   ]
  },
  {
   "cell_type": "markdown",
   "metadata": {},
   "source": [
    "### Directional unigram features [1.5 points]\n",
    "\n",
    "The current bag-of-words representation makes no distinction between \"forward\" and \"reverse\" examples. But, intuitively, there is big difference between _X and his son Y_ and _Y and his son X_. This question asks you to modify `simple_bag_of_words_featurizer` to capture these differences. \n",
    "\n",
    "__To submit:__\n",
    "\n",
    "1. A feature function `directional_bag_of_words_featurizer` that is just like `simple_bag_of_words_featurizer` except that it distinguishes \"forward\" and \"reverse\". To do this, you just need to mark each word feature for whether it is derived from a subject–object example or from an object–subject example.  The included function `test_directional_bag_of_words_featurizer` should help verify that you've done this correctly.\n",
    "\n",
    "2. A call to `rel_ext.experiment` with `directional_bag_of_words_featurizer` as the only featurizer. (Aside from this, use all the default values for `rel_ext.experiment` as exemplified above in this notebook.)\n",
    "\n",
    "3. `rel_ext.experiment` returns some of the core objects used in the experiment. How many feature names does the `vectorizer` have for the experiment run in the previous step? Include the code needed for getting this value. (Note: we're partly asking you to figure out how to get this value by using the sklearn documentation, so please don't ask how to do it!)"
   ]
  },
  {
   "cell_type": "code",
   "execution_count": 20,
   "metadata": {},
   "outputs": [
    {
     "name": "stdout",
     "output_type": "stream",
     "text": [
      "relation              precision     recall    f-score    support       size\n",
      "------------------    ---------  ---------  ---------  ---------  ---------\n",
      "adjoins                   0.826      0.418      0.691        340       5716\n",
      "author                    0.809      0.591      0.754        509       5885\n",
      "capital                   0.677      0.221      0.479         95       5471\n",
      "contains                  0.810      0.674      0.779       3904       9280\n",
      "film_performance          0.857      0.640      0.802        766       6142\n",
      "founders                  0.767      0.408      0.652        380       5756\n",
      "genre                     0.741      0.235      0.518        170       5546\n",
      "has_sibling               0.816      0.240      0.552        499       5875\n",
      "has_spouse                0.886      0.352      0.679        594       5970\n",
      "is_a                      0.765      0.256      0.547        497       5873\n",
      "nationality               0.653      0.219      0.468        301       5677\n",
      "parents                   0.852      0.516      0.754        312       5688\n",
      "place_of_birth            0.730      0.232      0.510        233       5609\n",
      "place_of_death            0.528      0.119      0.314        159       5535\n",
      "profession                0.741      0.243      0.525        247       5623\n",
      "worked_at                 0.797      0.260      0.565        242       5618\n",
      "------------------    ---------  ---------  ---------  ---------  ---------\n",
      "macro-average             0.766      0.352      0.599       9248      95264\n",
      "Number of model features: 40812\n"
     ]
    }
   ],
   "source": [
    "def directional_bag_of_words_featurizer(kbt, corpus, feature_counter): \n",
    "    # Append these to the end of the keys you add/access in \n",
    "    # `feature_counter` to distinguish the two orders. You'll\n",
    "    # need to use exactly these strings in order to pass \n",
    "    # `test_directional_bag_of_words_featurizer`.\n",
    "    subject_object_suffix = \"_SO\"\n",
    "    object_subject_suffix = \"_OS\"\n",
    "    \n",
    "    ##### YOUR CODE HERE\n",
    "    for ex in corpus.get_examples_for_entities(kbt.sbj, kbt.obj):\n",
    "        for word in ex.middle.split(' '):\n",
    "            feature_counter[word+subject_object_suffix] += 1\n",
    "    for ex in corpus.get_examples_for_entities(kbt.obj, kbt.sbj):\n",
    "        for word in ex.middle.split(' '):\n",
    "            feature_counter[word+object_subject_suffix] += 1\n",
    "    return feature_counter\n",
    "\n",
    "\n",
    "# Call to `rel_ext.experiment`:\n",
    "##### YOUR CODE HERE    \n",
    "directional_results = rel_ext.experiment(\n",
    "    splits,\n",
    "    train_split='train',\n",
    "    test_split='dev',\n",
    "    featurizers=[directional_bag_of_words_featurizer],\n",
    "    verbose=True)\n",
    "\n",
    "print('Number of model features:', directional_results['models']['adjoins'].coef_.shape[1])"
   ]
  },
  {
   "cell_type": "code",
   "execution_count": 21,
   "metadata": {},
   "outputs": [],
   "source": [
    "def test_directional_bag_of_words_featurizer(corpus):\n",
    "    from collections import defaultdict\n",
    "    kbt = rel_ext.KBTriple(rel='worked_at', sbj='Randall_Munroe', obj='xkcd')\n",
    "    feature_counter = defaultdict(int)\n",
    "    # Make sure `feature_counter` is being updated, not reinitialized:\n",
    "    feature_counter['is_OS'] += 5\n",
    "    feature_counter = directional_bag_of_words_featurizer(kbt, corpus, feature_counter)\n",
    "    expected = defaultdict(\n",
    "        int, {'is_OS':6,'a_OS':1,'webcomic_OS':1,'created_OS':1,'by_OS':1})\n",
    "    assert feature_counter == expected, \\\n",
    "        \"Expected:\\n{}\\nGot:\\n{}\".format(expected, feature_counter)"
   ]
  },
  {
   "cell_type": "code",
   "execution_count": 22,
   "metadata": {},
   "outputs": [],
   "source": [
    "if 'IS_GRADESCOPE_ENV' not in os.environ:\n",
    "    test_directional_bag_of_words_featurizer(corpus)"
   ]
  },
  {
   "cell_type": "markdown",
   "metadata": {},
   "source": [
    "### The part-of-speech tags of the \"middle\" words [1.5 points]\n",
    "\n",
    "Our corpus distribution contains part-of-speech (POS) tagged versions of the core text spans. Let's begin to explore whether there is information in these sequences, focusing on `middle_POS`.\n",
    "\n",
    "__To submit:__\n",
    "\n",
    "1. A feature function `middle_bigram_pos_tag_featurizer` that is just like `simple_bag_of_words_featurizer` except that it creates a feature for bigram POS sequences. For example, given \n",
    "\n",
    "  `The/DT dog/N napped/V`\n",
    "  \n",
    "   we obtain the list of bigram POS sequences\n",
    "  \n",
    "   `b = ['<s> DT', 'DT N', 'N V', 'V </s>']`. \n",
    "   \n",
    "   Of course, `middle_bigram_pos_tag_featurizer` should return count dictionaries defined in terms of such bigram POS lists, on the model of `simple_bag_of_words_featurizer`.  Don't forget the start and end tags, to model those environments properly! The included function `test_middle_bigram_pos_tag_featurizer` should help verify that you've done this correctly.\n",
    "\n",
    "2. A call to `rel_ext.experiment` with `middle_bigram_pos_tag_featurizer` as the only featurizer. (Aside from this, use all the default values for `rel_ext.experiment` as exemplified above in this notebook.)"
   ]
  },
  {
   "cell_type": "code",
   "execution_count": 23,
   "metadata": {},
   "outputs": [
    {
     "name": "stdout",
     "output_type": "stream",
     "text": [
      "relation              precision     recall    f-score    support       size\n",
      "------------------    ---------  ---------  ---------  ---------  ---------\n",
      "adjoins                   0.815      0.350      0.644        340       5716\n",
      "author                    0.711      0.348      0.588        509       5885\n",
      "capital                   0.556      0.158      0.369         95       5471\n",
      "contains                  0.766      0.587      0.722       3904       9280\n",
      "film_performance          0.697      0.444      0.625        766       6142\n",
      "founders                  0.621      0.168      0.404        380       5756\n",
      "genre                     0.660      0.182      0.433        170       5546\n",
      "has_sibling               0.636      0.164      0.404        499       5875\n",
      "has_spouse                0.740      0.273      0.551        594       5970\n",
      "is_a                      0.581      0.173      0.395        497       5873\n",
      "nationality               0.489      0.076      0.235        301       5677\n",
      "parents                   0.560      0.253      0.451        312       5688\n",
      "place_of_birth            0.582      0.167      0.389        233       5609\n",
      "place_of_death            0.394      0.082      0.223        159       5535\n",
      "profession                0.616      0.182      0.417        247       5623\n",
      "worked_at                 0.500      0.120      0.306        242       5618\n",
      "------------------    ---------  ---------  ---------  ---------  ---------\n",
      "macro-average             0.620      0.233      0.447       9248      95264\n"
     ]
    }
   ],
   "source": [
    "def middle_bigram_pos_tag_featurizer(kbt, corpus, feature_counter):\n",
    "    \n",
    "    ##### YOUR CODE HERE\n",
    "    for ex in corpus.get_examples_for_entities(kbt.sbj, kbt.obj):\n",
    "        for bg in get_tag_bigrams(ex.middle_POS):\n",
    "            feature_counter[bg] += 1\n",
    "    for ex in corpus.get_examples_for_entities(kbt.obj, kbt.sbj):\n",
    "        for bg in get_tag_bigrams(ex.middle_POS):\n",
    "            feature_counter[bg] += 1\n",
    "    return feature_counter\n",
    "\n",
    "\n",
    "def get_tag_bigrams(s):\n",
    "    \"\"\"Suggested helper method for `middle_bigram_pos_tag_featurizer`.\n",
    "    This should be defined so that it returns a list of str, where each \n",
    "    element is a POS bigram.\"\"\"\n",
    "    # The values of `start_symbol` and `end_symbol` are defined\n",
    "    # here so that you can use `test_middle_bigram_pos_tag_featurizer`.\n",
    "    start_symbol = \"<s>\"\n",
    "    end_symbol = \"</s>\"\n",
    "    \n",
    "    ##### YOUR CODE HERE\n",
    "    tags = [start_symbol]+get_tags(s)+[end_symbol]\n",
    "    bigrams = []\n",
    "    for i in range(len(tags)-1):\n",
    "        bigrams.append(tags[i]+' '+tags[i+1])\n",
    "    return bigrams\n",
    "\n",
    "    \n",
    "def get_tags(s): \n",
    "    \"\"\"Given a sequence of word/POS elements (lemmas), this function\n",
    "    returns a list containing just the POS elements, in order.    \n",
    "    \"\"\"\n",
    "    return [parse_lem(lem)[1] for lem in s.strip().split(' ') if lem]\n",
    "\n",
    "\n",
    "def parse_lem(lem):\n",
    "    \"\"\"Helper method for parsing word/POS elements. It just splits\n",
    "    on the rightmost / and returns (word, POS) as a tuple of str.\"\"\"\n",
    "    return lem.strip().rsplit('/', 1)  \n",
    "\n",
    "# Call to `rel_ext.experiment`:\n",
    "##### YOUR CODE HERE\n",
    "directional_results = rel_ext.experiment(\n",
    "    splits,\n",
    "    train_split='train',\n",
    "    test_split='dev',\n",
    "    featurizers=[middle_bigram_pos_tag_featurizer],\n",
    "    verbose=True)\n",
    "\n"
   ]
  },
  {
   "cell_type": "code",
   "execution_count": 24,
   "metadata": {},
   "outputs": [],
   "source": [
    "def test_middle_bigram_pos_tag_featurizer(corpus):\n",
    "    from collections import defaultdict\n",
    "    kbt = rel_ext.KBTriple(rel='worked_at', sbj='Randall_Munroe', obj='xkcd')\n",
    "    feature_counter = defaultdict(int)\n",
    "    # Make sure `feature_counter` is being updated, not reinitialized:\n",
    "    feature_counter['<s> VBZ'] += 5\n",
    "    feature_counter = middle_bigram_pos_tag_featurizer(kbt, corpus, feature_counter)\n",
    "    expected = defaultdict(\n",
    "        int, {'<s> VBZ':6,'VBZ DT':1,'DT JJ':1,'JJ VBN':1,'VBN IN':1,'IN </s>':1})\n",
    "    assert feature_counter == expected, \\\n",
    "        \"Expected:\\n{}\\nGot:\\n{}\".format(expected, feature_counter)"
   ]
  },
  {
   "cell_type": "code",
   "execution_count": 25,
   "metadata": {},
   "outputs": [],
   "source": [
    "if 'IS_GRADESCOPE_ENV' not in os.environ:\n",
    "    test_middle_bigram_pos_tag_featurizer(corpus)"
   ]
  },
  {
   "cell_type": "markdown",
   "metadata": {},
   "source": [
    "### Bag of Synsets [2 points]\n",
    "\n",
    "The following allows you to use NLTK's WordNet API to get the synsets compatible with _dog_ as used as a noun:\n",
    "\n",
    "```\n",
    "from nltk.corpus import wordnet as wn\n",
    "dog = wn.synsets('dog', pos='n')\n",
    "dog\n",
    "[Synset('dog.n.01'),\n",
    " Synset('frump.n.01'),\n",
    " Synset('dog.n.03'),\n",
    " Synset('cad.n.01'),\n",
    " Synset('frank.n.02'),\n",
    " Synset('pawl.n.01'),\n",
    " Synset('andiron.n.01')]\n",
    "```\n",
    "\n",
    "This question asks you to create synset-based features from the word/tag pairs in `middle_POS`.\n",
    "\n",
    "__To submit:__\n",
    "\n",
    "1. A feature function `synset_featurizer` that is just like `simple_bag_of_words_featurizer` except that it returns a list of synsets derived from `middle_POS`. Stringify these objects with `str` so that they can be `dict` keys. Use `convert_tag` (included below) to convert tags to `pos` arguments usable by `wn.synsets`. The included function `test_synset_featurizer` should help verify that you've done this correctly.\n",
    "\n",
    "2. A call to `rel_ext.experiment` with `synset_featurizer` as the only featurizer. (Aside from this, use all the default values for `rel_ext.experiment`.)"
   ]
  },
  {
   "cell_type": "code",
   "execution_count": 26,
   "metadata": {},
   "outputs": [
    {
     "name": "stderr",
     "output_type": "stream",
     "text": [
      "/opt/conda/lib/python3.6/site-packages/sklearn/svm/_base.py:947: ConvergenceWarning: Liblinear failed to converge, increase the number of iterations.\n",
      "  \"the number of iterations.\", ConvergenceWarning)\n"
     ]
    },
    {
     "name": "stdout",
     "output_type": "stream",
     "text": [
      "relation              precision     recall    f-score    support       size\n",
      "------------------    ---------  ---------  ---------  ---------  ---------\n",
      "adjoins                   0.793      0.326      0.617        340       5716\n",
      "author                    0.789      0.442      0.682        509       5885\n",
      "capital                   0.607      0.179      0.411         95       5471\n",
      "contains                  0.776      0.588      0.729       3904       9280\n",
      "film_performance          0.772      0.557      0.717        766       6142\n",
      "founders                  0.764      0.384      0.638        380       5756\n",
      "genre                     0.478      0.194      0.370        170       5546\n",
      "has_sibling               0.784      0.218      0.517        499       5875\n",
      "has_spouse                0.856      0.300      0.624        594       5970\n",
      "is_a                      0.676      0.243      0.499        497       5873\n",
      "nationality               0.446      0.136      0.306        301       5677\n",
      "parents                   0.836      0.522      0.746        312       5688\n",
      "place_of_birth            0.570      0.210      0.425        233       5609\n",
      "place_of_death            0.444      0.126      0.295        159       5535\n",
      "profession                0.597      0.162      0.388        247       5623\n",
      "worked_at                 0.617      0.207      0.442        242       5618\n",
      "------------------    ---------  ---------  ---------  ---------  ---------\n",
      "macro-average             0.675      0.300      0.525       9248      95264\n"
     ]
    }
   ],
   "source": [
    "# import nltk\n",
    "# nltk.download('wordnet')\n",
    "from nltk.corpus import wordnet as wn\n",
    "\n",
    "def synset_featurizer(kbt, corpus, feature_counter):\n",
    "    \n",
    "    ##### YOUR CODE HERE\n",
    "    for ex in corpus.get_examples_for_entities(kbt.sbj, kbt.obj):\n",
    "        for bg in get_synsets(ex.middle_POS):\n",
    "            feature_counter[bg] += 1\n",
    "    for ex in corpus.get_examples_for_entities(kbt.obj, kbt.sbj):\n",
    "        for bg in get_synsets(ex.middle_POS):\n",
    "            feature_counter[bg] += 1\n",
    "    return feature_counter\n",
    "\n",
    "\n",
    "def get_synsets(s):\n",
    "    \"\"\"Suggested helper method for `synset_featurizer`. This should\n",
    "    be completed so that it returns a list of stringified Synsets \n",
    "    associated with elements of `s`.\n",
    "    \"\"\"   \n",
    "    # Use `parse_lem` from the previous question to get a list of\n",
    "    # (word, POS) pairs. Remember to convert the POS strings.\n",
    "    wt = [parse_lem(lem) for lem in s.strip().split(' ') if lem]\n",
    "    \n",
    "    ##### YOUR CODE HERE\n",
    "    return [str(syn) for word, pos in wt for syn in wn.synsets(word, pos=convert_tag(pos))]\n",
    "    \n",
    "    \n",
    "def convert_tag(t):\n",
    "    \"\"\"Converts tags so that they can be used by WordNet:\n",
    "    \n",
    "    | Tag begins with | WordNet tag |\n",
    "    |-----------------|-------------|\n",
    "    | `N`             | `n`         |\n",
    "    | `V`             | `v`         |\n",
    "    | `J`             | `a`         |\n",
    "    | `R`             | `r`         |\n",
    "    | Otherwise       | `None`      |\n",
    "    \"\"\"        \n",
    "    if t[0].lower() in {'n', 'v', 'r'}:\n",
    "        return t[0].lower()\n",
    "    elif t[0].lower() == 'j':\n",
    "        return 'a'\n",
    "    else:\n",
    "        return None    \n",
    "\n",
    "\n",
    "# Call to `rel_ext.experiment`:\n",
    "##### YOUR CODE HERE    \n",
    "directional_results = rel_ext.experiment(\n",
    "    splits,\n",
    "    train_split='train',\n",
    "    test_split='dev',\n",
    "    featurizers=[synset_featurizer],\n",
    "    verbose=True)\n",
    "\n"
   ]
  },
  {
   "cell_type": "code",
   "execution_count": 27,
   "metadata": {},
   "outputs": [],
   "source": [
    "def test_synset_featurizer(corpus):\n",
    "    from collections import defaultdict\n",
    "    kbt = rel_ext.KBTriple(rel='worked_at', sbj='Randall_Munroe', obj='xkcd')\n",
    "    feature_counter = defaultdict(int)\n",
    "    # Make sure `feature_counter` is being updated, not reinitialized:\n",
    "    feature_counter[\"Synset('be.v.01')\"] += 5\n",
    "    feature_counter = synset_featurizer(kbt, corpus, feature_counter)\n",
    "    # The full return values for this tend to be long, so we just\n",
    "    # test a few examples to avoid cluttering up this notebook.\n",
    "    test_cases = {\n",
    "        \"Synset('be.v.01')\": 6,\n",
    "        \"Synset('embody.v.02')\": 1\n",
    "    }\n",
    "    for ss, expected in test_cases.items():   \n",
    "        result = feature_counter[ss]\n",
    "        assert result == expected, \\\n",
    "            \"Incorrect count for {}: Expected {}; Got {}\".format(ss, expected, result)"
   ]
  },
  {
   "cell_type": "code",
   "execution_count": 28,
   "metadata": {},
   "outputs": [],
   "source": [
    "if 'IS_GRADESCOPE_ENV' not in os.environ:\n",
    "    test_synset_featurizer(corpus)"
   ]
  },
  {
   "cell_type": "markdown",
   "metadata": {},
   "source": [
    "### Your original system [3 points]\n",
    "\n",
    "There are many options, and this could easily grow into a project. Here are a few ideas:\n",
    "\n",
    "- Try out different classifier models, from `sklearn` and elsewhere.\n",
    "- Add a feature that indicates the length of the middle.\n",
    "- Augment the bag-of-words representation to include bigrams or trigrams (not just unigrams).\n",
    "- Introduce features based on the entity mentions themselves. <!-- \\[SPOILER: it helps a lot, maybe 4% in F-score. And combines nicely with the directional features.\\] -->\n",
    "- Experiment with features based on the context outside (rather than between) the two entity mentions — that is, the words before the first mention, or after the second.\n",
    "- Try adding features which capture syntactic information, such as the dependency-path features used by Mintz et al. 2009. The [NLTK](https://www.nltk.org/) toolkit contains a variety of [parsing algorithms](http://www.nltk.org/api/nltk.parse.html) that may help.\n",
    "- The bag-of-words representation does not permit generalization across word categories such as names of people, places, or companies. Can we do better using word embeddings such as [GloVe](https://nlp.stanford.edu/projects/glove/)?\n",
    "\n",
    "In the cell below, please provide a brief technical description of your original system, so that the teaching team can gain an understanding of what it does. This will help us to understand your code and analyze all the submissions to identify patterns and strategies."
   ]
  },
  {
   "cell_type": "code",
   "execution_count": 29,
   "metadata": {},
   "outputs": [
    {
     "name": "stdout",
     "output_type": "stream",
     "text": [
      "relation              precision     recall    f-score    support       size\n",
      "------------------    ---------  ---------  ---------  ---------  ---------\n",
      "adjoins                   0.841      0.421      0.701        340       5716\n",
      "author                    0.840      0.631      0.788        509       5885\n",
      "capital                   0.710      0.232      0.502         95       5471\n",
      "contains                  0.825      0.678      0.791       3904       9280\n",
      "film_performance          0.869      0.695      0.828        766       6142\n",
      "founders                  0.822      0.437      0.699        380       5756\n",
      "genre                     0.818      0.371      0.659        170       5546\n",
      "has_sibling               0.836      0.255      0.574        499       5875\n",
      "has_spouse                0.903      0.359      0.692        594       5970\n",
      "is_a                      0.774      0.330      0.610        497       5873\n",
      "nationality               0.637      0.216      0.458        301       5677\n",
      "parents                   0.890      0.519      0.779        312       5688\n",
      "place_of_birth            0.753      0.249      0.536        233       5609\n",
      "place_of_death            0.585      0.151      0.372        159       5535\n",
      "profession                0.774      0.332      0.611        247       5623\n",
      "worked_at                 0.790      0.326      0.615        242       5618\n",
      "------------------    ---------  ---------  ---------  ---------  ---------\n",
      "macro-average             0.792      0.387      0.638       9248      95264\n"
     ]
    },
    {
     "data": {
      "text/plain": [
       "'My peak score was: .65\\n'"
      ]
     },
     "execution_count": 29,
     "metadata": {},
     "output_type": "execute_result"
    }
   ],
   "source": [
    "# Enter your system description in this cell.\n",
    "\"\"\"\n",
    "For our final solution we used a feature ensemble of bidirectional bag of words and trigram level POS bag of words. \n",
    "This net us an F-score of .65 (P=0.798, R=0.397) using Logistic Regression. \n",
    "We tried other feature combinations of n-gram level POS strings, glove embeddings, and average or bag of lengths middle length featurization.\n",
    "We tried an SVM classifier with an rbf kernel, however it only reached an F-score of .53 (due to poor recall) even with 15000 max iterations.\n",
    "\"\"\"\n",
    "def middle_trigram_pos_tag_featurizer(kbt, corpus, feature_counter):\n",
    "    ##### YOUR CODE HERE\n",
    "    for ex in corpus.get_examples_for_entities(kbt.sbj, kbt.obj):\n",
    "        for bg in get_tag_trigrams(ex.middle_POS):\n",
    "            feature_counter[bg] += 1\n",
    "    for ex in corpus.get_examples_for_entities(kbt.obj, kbt.sbj):\n",
    "        for bg in get_tag_trigrams(ex.middle_POS):\n",
    "            feature_counter[bg] += 1\n",
    "    return feature_counter\n",
    "\n",
    "\n",
    "def get_tag_trigrams(s):\n",
    "    \"\"\"Suggested helper method for `middle_trigram_pos_tag_featurizer`.\n",
    "    This should be defined so that it returns a list of str, where each \n",
    "    element is a POS trigram.\"\"\"\n",
    "    # The values of `start_symbol` and `end_symbol` are defined\n",
    "    # here so that you can use `test_middle_bigram_pos_tag_featurizer`.\n",
    "    start_symbol = \"<s>\"\n",
    "    end_symbol = \"</s>\"\n",
    "    \n",
    "    ##### YOUR CODE HERE\n",
    "    tags = [start_symbol]+get_tags(s)+[end_symbol]\n",
    "    trigrams = []\n",
    "    for i in range(len(tags)-2):\n",
    "        trigrams.append(tags[i]+' '+tags[i+1]+' '+tags[i+2])\n",
    "    return trigrams\n",
    "directional_results = rel_ext.experiment(\n",
    "    splits,\n",
    "    train_split='train',\n",
    "    test_split='dev',\n",
    "    featurizers=[middle_trigram_pos_tag_featurizer, directional_bag_of_words_featurizer],\n",
    "    verbose=True)\n",
    "\n",
    "if 'IS_GRADESCOPE_ENV' not in os.environ:\n",
    "    pass\n",
    "\n",
    "# My peak score was: 0.65\\n\n",
    "\n",
    "# Please do not remove this comment."
   ]
  },
  {
   "cell_type": "code",
   "execution_count": 39,
   "metadata": {},
   "outputs": [
    {
     "name": "stdout",
     "output_type": "stream",
     "text": [
      "relation              precision     recall    f-score    support       size\n",
      "------------------    ---------  ---------  ---------  ---------  ---------\n",
      "adjoins                   0.862      0.350      0.667        340       5716\n",
      "author                    0.880      0.546      0.784        509       5885\n",
      "capital                   0.462      0.063      0.204         95       5471\n",
      "contains                  0.853      0.606      0.789       3904       9280\n",
      "film_performance          0.903      0.560      0.805        766       6142\n",
      "founders                  0.903      0.268      0.613        380       5756\n",
      "genre                     0.829      0.171      0.468        170       5546\n",
      "has_sibling               0.919      0.182      0.508        499       5875\n",
      "has_spouse                0.892      0.264      0.605        594       5970\n",
      "is_a                      0.864      0.205      0.526        497       5873\n",
      "nationality               0.763      0.150      0.419        301       5677\n",
      "parents                   0.912      0.401      0.727        312       5688\n",
      "place_of_birth            0.787      0.159      0.439        233       5609\n",
      "place_of_death            0.000      0.000      0.000        159       5535\n",
      "profession                0.914      0.259      0.607        247       5623\n",
      "worked_at                 0.806      0.120      0.376        242       5618\n",
      "------------------    ---------  ---------  ---------  ---------  ---------\n",
      "macro-average             0.784      0.269      0.534       9248      95264\n"
     ]
    }
   ],
   "source": [
    "# SVM attempt\n",
    "# directional_results = rel_ext.experiment(\n",
    "#     splits,\n",
    "#     train_split='train',\n",
    "#     test_split='dev',\n",
    "#     featurizers=[middle_trigram_pos_tag_featurizer, directional_bag_of_words_featurizer],\n",
    "#     model_factory=lambda: SVC(max_iter=15000),\n",
    "#     verbose=True)"
   ]
  },
  {
   "cell_type": "code",
   "execution_count": 54,
   "metadata": {},
   "outputs": [
    {
     "name": "stdout",
     "output_type": "stream",
     "text": [
      "relation              precision     recall    f-score    support       size\n",
      "------------------    ---------  ---------  ---------  ---------  ---------\n",
      "adjoins                   0.828      0.353      0.652        340       5716\n",
      "author                    0.754      0.350      0.613        509       5885\n",
      "capital                   0.484      0.158      0.342         95       5471\n",
      "contains                  0.740      0.608      0.709       3904       9280\n",
      "film_performance          0.759      0.492      0.684        766       6142\n",
      "founders                  0.672      0.216      0.472        380       5756\n",
      "genre                     0.711      0.159      0.419        170       5546\n",
      "has_sibling               0.714      0.160      0.422        499       5875\n",
      "has_spouse                0.759      0.271      0.558        594       5970\n",
      "is_a                      0.679      0.217      0.477        497       5873\n",
      "nationality               0.468      0.096      0.264        301       5677\n",
      "parents                   0.731      0.340      0.594        312       5688\n",
      "place_of_birth            0.710      0.189      0.457        233       5609\n",
      "place_of_death            0.538      0.088      0.266        159       5535\n",
      "profession                0.729      0.174      0.445        247       5623\n",
      "worked_at                 0.552      0.153      0.363        242       5618\n",
      "------------------    ---------  ---------  ---------  ---------  ---------\n",
      "macro-average             0.677      0.251      0.484       9248      95264\n"
     ]
    }
   ],
   "source": [
    "# Only Trigram features\n",
    "\n",
    "# directional_results = rel_ext.experiment(\n",
    "#     splits,\n",
    "#     train_split='train',\n",
    "#     test_split='dev',\n",
    "#     featurizers=[middle_trigram_pos_tag_featurizer],\n",
    "#     verbose=True)"
   ]
  },
  {
   "cell_type": "code",
   "execution_count": 58,
   "metadata": {},
   "outputs": [
    {
     "name": "stdout",
     "output_type": "stream",
     "text": [
      "relation              precision     recall    f-score    support       size\n",
      "------------------    ---------  ---------  ---------  ---------  ---------\n",
      "adjoins                   0.783      0.382      0.647        340       5716\n",
      "author                    0.809      0.582      0.750        509       5885\n",
      "capital                   0.541      0.211      0.412         95       5471\n",
      "contains                  0.786      0.627      0.748       3904       9280\n",
      "film_performance          0.790      0.638      0.754        766       6142\n",
      "founders                  0.769      0.421      0.660        380       5756\n",
      "genre                     0.697      0.312      0.559        170       5546\n",
      "has_sibling               0.820      0.275      0.587        499       5875\n",
      "has_spouse                0.892      0.362      0.690        594       5970\n",
      "is_a                      0.685      0.320      0.558        497       5873\n",
      "nationality               0.548      0.189      0.397        301       5677\n",
      "parents                   0.811      0.577      0.750        312       5688\n",
      "place_of_birth            0.712      0.223      0.495        233       5609\n",
      "place_of_death            0.412      0.132      0.289        159       5535\n",
      "profession                0.732      0.287      0.559        247       5623\n",
      "worked_at                 0.779      0.306      0.595        242       5618\n",
      "------------------    ---------  ---------  ---------  ---------  ---------\n",
      "macro-average             0.723      0.365      0.591       9248      95264\n"
     ]
    }
   ],
   "source": [
    "# 4 gram features\n",
    "# def middle_4gram_pos_tag_featurizer(kbt, corpus, feature_counter):\n",
    "    \n",
    "#     ##### YOUR CODE HERE\n",
    "#     for ex in corpus.get_examples_for_entities(kbt.sbj, kbt.obj):\n",
    "#         for bg in get_tag_4grams(ex.middle_POS):\n",
    "#             feature_counter[bg] += 1\n",
    "#     for ex in corpus.get_examples_for_entities(kbt.obj, kbt.sbj):\n",
    "#         for bg in get_tag_4grams(ex.middle_POS):\n",
    "#             feature_counter[bg] += 1\n",
    "#     return feature_counter\n",
    "\n",
    "\n",
    "# def get_tag_4grams(s):\n",
    "#     \"\"\"Suggested helper method for `middle_trigram_pos_tag_featurizer`.\n",
    "#     This should be defined so that it returns a list of str, where each \n",
    "#     element is a POS trigram.\"\"\"\n",
    "#     # The values of `start_symbol` and `end_symbol` are defined\n",
    "#     # here so that you can use `test_middle_bigram_pos_tag_featurizer`.\n",
    "#     start_symbol = \"<s>\"\n",
    "#     end_symbol = \"</s>\"\n",
    "    \n",
    "#     ##### YOUR CODE HERE\n",
    "#     tags = [start_symbol]+get_tags(s)+[end_symbol]\n",
    "#     ngrams = []\n",
    "#     for i in range(len(tags)-3):\n",
    "#         ngrams.append(tags[i]+' '+tags[i+1]+' '+tags[i+2]+' '+tags[i+3])\n",
    "#     return ngrams\n",
    "\n",
    "# directional_results = rel_ext.experiment(\n",
    "#     splits,\n",
    "#     train_split='train',\n",
    "#     test_split='dev',\n",
    "#     featurizers=[middle_4gram_pos_tag_featurizer],\n",
    "#     verbose=True)"
   ]
  },
  {
   "cell_type": "code",
   "execution_count": 63,
   "metadata": {},
   "outputs": [
    {
     "name": "stdout",
     "output_type": "stream",
     "text": [
      "relation              precision     recall    f-score    support       size\n",
      "------------------    ---------  ---------  ---------  ---------  ---------\n",
      "adjoins                   0.867      0.424      0.717        340       5716\n",
      "author                    0.848      0.637      0.795        509       5885\n",
      "capital                   0.697      0.242      0.507         95       5471\n",
      "contains                  0.808      0.703      0.785       3904       9280\n",
      "film_performance          0.844      0.684      0.806        766       6142\n",
      "founders                  0.860      0.437      0.720        380       5756\n",
      "genre                     0.764      0.324      0.600        170       5546\n",
      "has_sibling               0.906      0.251      0.595        499       5875\n",
      "has_spouse                0.885      0.364      0.688        594       5970\n",
      "is_a                      0.800      0.330      0.623        497       5873\n",
      "nationality               0.701      0.226      0.493        301       5677\n",
      "parents                   0.898      0.535      0.791        312       5688\n",
      "place_of_birth            0.818      0.270      0.582        233       5609\n",
      "place_of_death            0.650      0.164      0.408        159       5535\n",
      "profession                0.784      0.324      0.611        247       5623\n",
      "worked_at                 0.851      0.306      0.627        242       5618\n",
      "------------------    ---------  ---------  ---------  ---------  ---------\n",
      "macro-average             0.811      0.389      0.647       9248      95264\n"
     ]
    }
   ],
   "source": [
    "# # bigram and directional_bag_of_words\n",
    "# directional_results = rel_ext.experiment(\n",
    "#     splits,\n",
    "#     train_split='train',\n",
    "#     test_split='dev',\n",
    "#     featurizers=[middle_bigram_pos_tag_featurizer, directional_bag_of_words_featurizer],\n",
    "#     verbose=True)"
   ]
  },
  {
   "cell_type": "code",
   "execution_count": 67,
   "metadata": {},
   "outputs": [
    {
     "name": "stdout",
     "output_type": "stream",
     "text": [
      "relation              precision     recall    f-score    support       size\n",
      "------------------    ---------  ---------  ---------  ---------  ---------\n",
      "adjoins                   0.857      0.424      0.711        340       5716\n",
      "author                    0.846      0.639      0.795        509       5885\n",
      "capital                   0.636      0.221      0.463         95       5471\n",
      "contains                  0.805      0.703      0.782       3904       9280\n",
      "film_performance          0.847      0.688      0.810        766       6142\n",
      "founders                  0.863      0.432      0.719        380       5756\n",
      "genre                     0.764      0.324      0.600        170       5546\n",
      "has_sibling               0.906      0.253      0.597        499       5875\n",
      "has_spouse                0.883      0.357      0.682        594       5970\n",
      "is_a                      0.817      0.332      0.632        497       5873\n",
      "nationality               0.629      0.219      0.458        301       5677\n",
      "parents                   0.897      0.529      0.787        312       5688\n",
      "place_of_birth            0.800      0.275      0.579        233       5609\n",
      "place_of_death            0.605      0.145      0.370        159       5535\n",
      "profession                0.792      0.324      0.614        247       5623\n",
      "worked_at                 0.849      0.302      0.623        242       5618\n",
      "------------------    ---------  ---------  ---------  ---------  ---------\n",
      "macro-average             0.800      0.385      0.639       9248      95264\n"
     ]
    }
   ],
   "source": [
    "# bag of middle length featurizer\n",
    "# def middle_length_featurizer(kbt, corpus, feature_counter):\n",
    "    \n",
    "#     ##### YOUR CODE HERE\n",
    "#     total = 0\n",
    "#     count = 0\n",
    "#     for ex in corpus.get_examples_for_entities(kbt.sbj, kbt.obj):\n",
    "#         feature_counter[str(len(ex.middle.split()))] += 1\n",
    "# #         total += len(ex.middle.split())\n",
    "# #         count += 1\n",
    "#     for ex in corpus.get_examples_for_entities(kbt.obj, kbt.sbj):\n",
    "#         feature_counter[str(len(ex.middle.split()))] += 1\n",
    "# #         total += len(ex.middle.split())\n",
    "# #         count += 1\n",
    "# #     if count == 0:\n",
    "# #         div = 0\n",
    "# #     else:\n",
    "# #         div = total/count\n",
    "# #     feature_counter['average_length'] += div\n",
    "#     return feature_counter\n",
    "# directional_results = rel_ext.experiment(\n",
    "#     splits,\n",
    "#     train_split='train',\n",
    "#     test_split='dev',\n",
    "#     featurizers=[middle_trigram_pos_tag_featurizer, directional_bag_of_words_featurizer, middle_length_featurizer],\n",
    "#     verbose=True)"
   ]
  },
  {
   "cell_type": "code",
   "execution_count": 70,
   "metadata": {},
   "outputs": [
    {
     "name": "stderr",
     "output_type": "stream",
     "text": [
      "/opt/conda/lib/python3.6/site-packages/sklearn/svm/_base.py:947: ConvergenceWarning: Liblinear failed to converge, increase the number of iterations.\n",
      "  \"the number of iterations.\", ConvergenceWarning)\n"
     ]
    },
    {
     "name": "stdout",
     "output_type": "stream",
     "text": [
      "relation              precision     recall    f-score    support       size\n",
      "------------------    ---------  ---------  ---------  ---------  ---------\n",
      "adjoins                   0.845      0.432      0.709        340       5716\n",
      "author                    0.828      0.625      0.778        509       5885\n",
      "capital                   0.619      0.274      0.494         95       5471\n",
      "contains                  0.795      0.754      0.786       3904       9280\n",
      "film_performance          0.841      0.698      0.808        766       6142\n",
      "founders                  0.797      0.445      0.688        380       5756\n",
      "genre                     0.743      0.324      0.590        170       5546\n",
      "has_sibling               0.862      0.275      0.604        499       5875\n",
      "has_spouse                0.854      0.375      0.681        594       5970\n",
      "is_a                      0.715      0.328      0.578        497       5873\n",
      "nationality               0.563      0.252      0.452        301       5677\n",
      "parents                   0.865      0.554      0.778        312       5688\n",
      "place_of_birth            0.725      0.283      0.553        233       5609\n",
      "place_of_death            0.576      0.239      0.449        159       5535\n",
      "profession                0.761      0.348      0.615        247       5623\n",
      "worked_at                 0.777      0.360      0.630        242       5618\n",
      "------------------    ---------  ---------  ---------  ---------  ---------\n",
      "macro-average             0.760      0.410      0.637       9248      95264\n"
     ]
    }
   ],
   "source": [
    "#Unvectorized GLoVE featurizer combined with middle trigram and directional bag of words\n",
    "# def glove_slow_featurizer(kbt, corpus, feature_counter, np_func=np.sum):\n",
    "#     reps = []\n",
    "#     for ex in corpus.get_examples_for_entities(kbt.sbj, kbt.obj):\n",
    "#         for word in ex.middle.split():\n",
    "#             rep = glove_lookup.get(word)\n",
    "#             if rep is not None:\n",
    "#                 reps.append(rep)\n",
    "#     # A random representation of the right dimensionality if the\n",
    "#     # example happens not to overlap with GloVe's vocabulary:\n",
    "#     if len(reps) == 0:\n",
    "#         dim = len(next(iter(glove_lookup.values())))                \n",
    "#         vec = utils.randvec(n=dim)\n",
    "#     else:\n",
    "#         vec = np_func(reps, axis=0)\n",
    "    \n",
    "#     feature_counter.update({'glove_feat_'+str(i): v for i, v in enumerate(vec.flatten().tolist())})\n",
    "#     return feature_counter\n",
    "# directional_results = rel_ext.experiment(\n",
    "#     splits,\n",
    "#     train_split='train',\n",
    "#     test_split='dev',\n",
    "#     featurizers=[glove_slow_featurizer, middle_trigram_pos_tag_featurizer, directional_bag_of_words_featurizer],\n",
    "#     verbose=True)"
   ]
  },
  {
   "cell_type": "code",
   "execution_count": 29,
   "metadata": {},
   "outputs": [
    {
     "name": "stdout",
     "output_type": "stream",
     "text": [
      "relation              precision     recall    f-score    support       size\n",
      "------------------    ---------  ---------  ---------  ---------  ---------\n",
      "adjoins                   0.773      0.462      0.681        340       5716\n",
      "author                    0.807      0.583      0.750        509       5885\n",
      "capital                   0.548      0.358      0.496         95       5471\n",
      "contains                  0.800      0.662      0.768       3904       9280\n",
      "film_performance          0.812      0.614      0.762        766       6142\n",
      "founders                  0.697      0.437      0.623        380       5756\n",
      "genre                     0.440      0.235      0.375        170       5546\n",
      "has_sibling               0.760      0.255      0.544        499       5875\n",
      "has_spouse                0.767      0.387      0.641        594       5970\n",
      "is_a                      0.634      0.219      0.460        497       5873\n",
      "nationality               0.512      0.216      0.402        301       5677\n",
      "parents                   0.783      0.532      0.716        312       5688\n",
      "place_of_birth            0.527      0.249      0.431        233       5609\n",
      "place_of_death            0.310      0.164      0.263        159       5535\n",
      "profession                0.494      0.166      0.354        247       5623\n",
      "worked_at                 0.661      0.306      0.536        242       5618\n",
      "------------------    ---------  ---------  ---------  ---------  ---------\n",
      "macro-average             0.645      0.365      0.550       9248      95264\n"
     ]
    }
   ],
   "source": [
    "#GLoVE featurizers trying to capture directionality\n",
    "# def glove_middle_forward_reverse_featurizer(kbt, corpus, np_func=np.sum):\n",
    "#     reps = []\n",
    "#     for ex in corpus.get_examples_for_entities(kbt.obj, kbt.sbj):\n",
    "#         for word in ex.middle.split():\n",
    "#             rep = glove_lookup.get(word)\n",
    "#             if rep is not None:\n",
    "#                 reps.append(rep)\n",
    "#     reps2 = []\n",
    "#     for ex in corpus.get_examples_for_entities(kbt.sbj, kbt.obj):\n",
    "#         for word in ex.middle.split():\n",
    "#             rep = glove_lookup.get(word)\n",
    "#             if rep is not None:\n",
    "#                 reps2.append(rep)\n",
    "#     # A random representation of the right dimensionality if the\n",
    "#     # example happens not to overlap with GloVe's vocabulary:\n",
    "#     if len(reps) == 0:\n",
    "#         dim = len(next(iter(glove_lookup.values())))                \n",
    "#         v1 = utils.randvec(n=dim)\n",
    "#     else:\n",
    "#         v1 = np_func(reps, axis=0)\n",
    "        \n",
    "#     if len(reps2) == 0:\n",
    "#         dim = len(next(iter(glove_lookup.values())))                \n",
    "#         v2 = utils.randvec(n=dim)\n",
    "#     else:\n",
    "#         v2 = np_func(reps2, axis=0)\n",
    "        \n",
    "#     return np.concatenate((v1,v2), axis=-1)\n",
    "    \n",
    "# def glove_middle_both_featurizer(kbt, corpus, np_func=np.sum):\n",
    "#     reps = []\n",
    "#     for ex in corpus.get_examples_for_entities(kbt.obj, kbt.sbj):\n",
    "#         for word in ex.middle.split():\n",
    "#             rep = glove_lookup.get(word)\n",
    "#             if rep is not None:\n",
    "#                 reps.append(rep)\n",
    "#     for ex in corpus.get_examples_for_entities(kbt.sbj, kbt.obj):\n",
    "#         for word in ex.middle.split():\n",
    "#             rep = glove_lookup.get(word)\n",
    "#             if rep is not None:\n",
    "#                 reps.append(rep)\n",
    "#     # A random representation of the right dimensionality if the\n",
    "#     # example happens not to overlap with GloVe's vocabulary:\n",
    "#     if len(reps) == 0:\n",
    "#         dim = len(next(iter(glove_lookup.values())))                \n",
    "#         return utils.randvec(n=dim)\n",
    "#     else:\n",
    "#         return np_func(reps, axis=0)\n",
    "    \n",
    "# glove_results = rel_ext.experiment(\n",
    "#     splits,\n",
    "#     train_split='train',\n",
    "#     test_split='dev',\n",
    "#     featurizers=[glove_middle_reverse_featurizer],    \n",
    "#     vectorize=False, # Crucial for this featurizer!\n",
    "#     verbose=True)"
   ]
  },
  {
   "cell_type": "markdown",
   "metadata": {},
   "source": [
    "## Bake-off [1 point]\n",
    "\n",
    "For the bake-off, we will release a test set. The announcement will go out on the discussion forum. You will evaluate your custom model from the previous question on these new datasets using the function `rel_ext.bake_off_experiment`. Rules:\n",
    "\n",
    "1. Only one evaluation is permitted.\n",
    "1. No additional system tuning is permitted once the bake-off has started.\n",
    "\n",
    "The cells below this one constitute your bake-off entry.\n",
    "\n",
    "People who enter will receive the additional homework point, and people whose systems achieve the top score will receive an additional 0.5 points. We will test the top-performing systems ourselves, and only systems for which we can reproduce the reported results will win the extra 0.5 points.\n",
    "\n",
    "Late entries will be accepted, but they cannot earn the extra 0.5 points. Similarly, you cannot win the bake-off unless your homework is submitted on time.\n",
    "\n",
    "The announcement will include the details on where to submit your entry."
   ]
  },
  {
   "cell_type": "code",
   "execution_count": 31,
   "metadata": {},
   "outputs": [
    {
     "name": "stdout",
     "output_type": "stream",
     "text": [
      "relation              precision     recall    f-score    support       size\n",
      "------------------    ---------  ---------  ---------  ---------  ---------\n",
      "adjoins                   0.841      0.421      0.701        340       5716\n",
      "author                    0.840      0.631      0.788        509       5885\n",
      "capital                   0.710      0.232      0.502         95       5471\n",
      "contains                  0.825      0.678      0.791       3904       9280\n",
      "film_performance          0.869      0.695      0.828        766       6142\n",
      "founders                  0.822      0.437      0.699        380       5756\n",
      "genre                     0.818      0.371      0.659        170       5546\n",
      "has_sibling               0.836      0.255      0.574        499       5875\n",
      "has_spouse                0.903      0.359      0.692        594       5970\n",
      "is_a                      0.774      0.330      0.610        497       5873\n",
      "nationality               0.637      0.216      0.458        301       5677\n",
      "parents                   0.890      0.519      0.779        312       5688\n",
      "place_of_birth            0.753      0.249      0.536        233       5609\n",
      "place_of_death            0.585      0.151      0.372        159       5535\n",
      "profession                0.774      0.332      0.611        247       5623\n",
      "worked_at                 0.790      0.326      0.615        242       5618\n",
      "------------------    ---------  ---------  ---------  ---------  ---------\n",
      "macro-average             0.792      0.387      0.638       9248      95264\n",
      "relation              precision     recall    f-score    support       size\n",
      "------------------    ---------  ---------  ---------  ---------  ---------\n",
      "adjoins                   0.875      0.495      0.759        438       7122\n",
      "author                    0.844      0.636      0.792        645       7329\n",
      "capital                   0.547      0.252      0.443        115       6799\n",
      "contains                  0.799      0.678      0.771       3808      10492\n",
      "film_performance          0.862      0.688      0.821       1011       7695\n",
      "founders                  0.759      0.446      0.665        444       7128\n",
      "genre                     0.787      0.372      0.643        188       6872\n",
      "has_sibling               0.848      0.241      0.564        717       7401\n",
      "has_spouse                0.915      0.374      0.710        780       7464\n",
      "is_a                      0.708      0.306      0.561        611       7295\n",
      "nationality               0.680      0.217      0.476        383       7067\n",
      "parents                   0.888      0.541      0.787        427       7111\n",
      "place_of_birth            0.841      0.254      0.575        291       6975\n",
      "place_of_death            0.711      0.160      0.421        200       6884\n",
      "profession                0.721      0.300      0.563        310       6994\n",
      "worked_at                 0.809      0.328      0.626        323       7007\n",
      "------------------    ---------  ---------  ---------  ---------  ---------\n",
      "macro-average             0.787      0.393      0.636      10691     117635\n"
     ]
    }
   ],
   "source": [
    "# Enter your bake-off assessment code in this cell. \n",
    "rel_ext_data_home_test = os.path.join(\n",
    "    rel_ext_data_home, 'bakeoff-rel_ext-test-data')\n",
    "bakeoff_results = rel_ext.experiment(\n",
    "    splits,\n",
    "    train_split='train',\n",
    "    test_split='dev',\n",
    "    featurizers=[middle_trigram_pos_tag_featurizer, directional_bag_of_words_featurizer],\n",
    "    verbose=True)\n",
    "rel_ext.bake_off_experiment(bakeoff_results, rel_ext_data_home_test)\n",
    "# Please do not remove this comment.\n",
    "if 'IS_GRADESCOPE_ENV' not in os.environ:\n",
    "    pass\n",
    "    # Please enter your code in the scope of the above conditional.\n",
    "    ##### YOUR CODE HERE\n",
    "    \n",
    "\n"
   ]
  },
  {
   "cell_type": "code",
   "execution_count": 32,
   "metadata": {},
   "outputs": [],
   "source": [
    "# On an otherwise blank line in this cell, please enter\n",
    "# your macro-average f-score (an F_0.5 score) as reported \n",
    "# by the code above. Please enter only a number between \n",
    "# 0 and 1 inclusive. Please do not remove this comment.\n",
    "if 'IS_GRADESCOPE_ENV' not in os.environ:\n",
    "    pass\n",
    "    # Please enter your score in the scope of the above conditional.\n",
    "    ##### YOUR CODE HERE\n",
    "    0.636\n",
    "\n"
   ]
  },
  {
   "cell_type": "code",
   "execution_count": null,
   "metadata": {},
   "outputs": [],
   "source": []
  }
 ],
 "metadata": {
  "kernelspec": {
   "display_name": "Python 3",
   "language": "python",
   "name": "python3"
  },
  "language_info": {
   "codemirror_mode": {
    "name": "ipython",
    "version": 3
   },
   "file_extension": ".py",
   "mimetype": "text/x-python",
   "name": "python",
   "nbconvert_exporter": "python",
   "pygments_lexer": "ipython3",
   "version": "3.6.9"
  },
  "widgets": {
   "state": {},
   "version": "1.1.2"
  }
 },
 "nbformat": 4,
 "nbformat_minor": 2
}
